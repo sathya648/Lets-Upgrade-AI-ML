{
 "cells": [
  {
   "cell_type": "markdown",
   "metadata": {},
   "source": [
    "### Question 1:\n",
    "Write a program to copy the contents of one file to another using a for loop. (Don’t use built-in copy\n",
    "function)\n"
   ]
  },
  {
   "cell_type": "code",
   "execution_count": 1,
   "metadata": {},
   "outputs": [
    {
     "data": {
      "text/plain": [
       "True"
      ]
     },
     "execution_count": 1,
     "metadata": {},
     "output_type": "execute_result"
    }
   ],
   "source": [
    "f=open('ML.txt','w')\n",
    "f.write('Hello Sathya\\n Welcome to AI ML course in Lets Upgrade\\n')\n",
    "f.write('Here is the general definition of ML?\\n')\n",
    "f.write(\"Machine learning is an application of artificial intelligence (AI) that provides systems the ability to automatically learn and improve from experience without being explicitly programmed.\")\n",
    "f.write(\"\\nMachine learning focuses on the development of computer programs that can access data and use it learn for themselves\")\n",
    "f.close()\n",
    "f.closed"
   ]
  },
  {
   "cell_type": "code",
   "execution_count": 2,
   "metadata": {},
   "outputs": [
    {
     "name": "stdout",
     "output_type": "stream",
     "text": [
      "File content is copied successfully\n",
      "True\n",
      "True\n"
     ]
    }
   ],
   "source": [
    "f=open('ML.txt','r')\n",
    "file_content=f.readlines()\n",
    "New_file=open(\"AI-ML.txt\",'w')\n",
    "for i in file_content:\n",
    "    New_file.write(i)\n",
    "New_file.close()\n",
    "f.close()\n",
    "f.closed\n",
    "New_file.closed\n",
    "print(\"File content is copied successfully\")\n",
    "print(f.closed)\n",
    "print(New_file.closed)\n",
    "\n"
   ]
  },
  {
   "cell_type": "code",
   "execution_count": 3,
   "metadata": {},
   "outputs": [
    {
     "name": "stdout",
     "output_type": "stream",
     "text": [
      "Hello Sathya\n",
      "\n",
      " Welcome to AI ML course in Lets Upgrade\n",
      "\n",
      "Here is the general definition of ML?\n",
      "\n",
      "Machine learning is an application of artificial intelligence (AI) that provides systems the ability to automatically learn and improve from experience without being explicitly programmed.\n",
      "\n",
      "Machine learning focuses on the development of computer programs that can access data and use it learn for themselves\n"
     ]
    }
   ],
   "source": [
    "# Reading the copied content\n",
    "\n",
    "AIML_file =open(\"AI-ML.txt\",'r')\n",
    "file_content=AIML_file.readlines()\n",
    "for i in file_content:\n",
    "    print(i)"
   ]
  },
  {
   "cell_type": "markdown",
   "metadata": {},
   "source": [
    "### Question 2:\n",
    "Write a Python program to find maximum and minimum values in the dictionary. Do not use built-in min\n",
    "and max functions."
   ]
  },
  {
   "cell_type": "code",
   "execution_count": 4,
   "metadata": {},
   "outputs": [
    {
     "name": "stdout",
     "output_type": "stream",
     "text": [
      "minimum value : 2\n",
      "maximum value : 82\n"
     ]
    }
   ],
   "source": [
    "Dicti={'a':12,'b':23,'c':3,'d':7,'e':82,'f':2}\n",
    "dic_val=list(Dicti.values())\n",
    "min=dic_val[0]\n",
    "max=dic_val[-1]\n",
    "for i in dic_val:\n",
    "    if i<min:\n",
    "        min=i\n",
    "    elif i>max:\n",
    "        max=i\n",
    "print(\"minimum value :\",min)\n",
    "print('maximum value :',max)\n"
   ]
  },
  {
   "cell_type": "code",
   "execution_count": null,
   "metadata": {},
   "outputs": [],
   "source": []
  }
 ],
 "metadata": {
  "kernelspec": {
   "display_name": "Python 3",
   "language": "python",
   "name": "python3"
  },
  "language_info": {
   "codemirror_mode": {
    "name": "ipython",
    "version": 3
   },
   "file_extension": ".py",
   "mimetype": "text/x-python",
   "name": "python",
   "nbconvert_exporter": "python",
   "pygments_lexer": "ipython3",
   "version": "3.8.3"
  }
 },
 "nbformat": 4,
 "nbformat_minor": 4
}
