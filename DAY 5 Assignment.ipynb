{
 "cells": [
  {
   "cell_type": "markdown",
   "metadata": {},
   "source": [
    "### Question 1 :\n",
    "Write a Python program to find the first 20 non-even prime natural numbers.\n"
   ]
  },
  {
   "cell_type": "code",
   "execution_count": 1,
   "metadata": {},
   "outputs": [
    {
     "name": "stdout",
     "output_type": "stream",
     "text": [
      "3\n",
      "5\n",
      "7\n",
      "11\n",
      "13\n",
      "17\n",
      "19\n",
      "23\n",
      "29\n",
      "31\n",
      "37\n",
      "41\n",
      "43\n",
      "47\n",
      "53\n",
      "59\n",
      "61\n",
      "67\n",
      "71\n",
      "73\n"
     ]
    }
   ],
   "source": [
    "num=2\n",
    "count=1\n",
    "while count<=20:\n",
    "    for j in range(2,num):\n",
    "        if num%j==0:\n",
    "            break\n",
    "    else:\n",
    "        if num%2!=0:\n",
    "            print(num)\n",
    "            count+=1\n",
    "    num+=1\n"
   ]
  },
  {
   "cell_type": "markdown",
   "metadata": {},
   "source": [
    "### Question 2 :\n",
    "Write a Python program to implement 15 functions of string.\n"
   ]
  },
  {
   "cell_type": "code",
   "execution_count": 2,
   "metadata": {},
   "outputs": [
    {
     "name": "stdout",
     "output_type": "stream",
     "text": [
      "Lets upgrade machine learning 1232\n",
      "lets upgrade machine learning 1232\n",
      "True\n",
      "13\n",
      "30\n",
      "False\n",
      "False\n",
      "False\n",
      "False\n",
      "False\n",
      "LETS UPGRADE MACHINE LEARNING 1232\n",
      "lets upgrade machine learning 1232\n",
      "False\n",
      "False\n",
      "LETS uPGRADE mACHINE LEARNING 1232\n"
     ]
    }
   ],
   "source": [
    "string='lets Upgrade Machine learning 1232'\n",
    "# fun1\n",
    "print(string.capitalize())\n",
    "#ffun2\n",
    "print(string.casefold())\n",
    "#fun3\n",
    "print(string.endswith('2'))\n",
    "\n",
    "#fun4\n",
    "print(string.find('M'))\n",
    "\n",
    "#fun5\n",
    "print(string.index(\"1232\"))\n",
    "\n",
    "#fun6\n",
    "print(string.isalnum())\n",
    "\n",
    "#fun7\n",
    "\n",
    "print(string.isalpha())\n",
    "# fun 8\n",
    "print(string.islower())\n",
    "\n",
    "# fun 9\n",
    "print(string.isupper())\n",
    "\n",
    "# fun 10\n",
    "print(string.islower())\n",
    "\n",
    "# fun 11\n",
    "print(string.upper())\n",
    "\n",
    "# fun 12\n",
    "print(string.lower())\n",
    "\n",
    "# fun 13\n",
    "print(string.isdigit())\n",
    "\n",
    "# fun 14\n",
    "print(string.istitle())\n",
    "\n",
    "# fun 15\n",
    "print(string.swapcase())\n"
   ]
  },
  {
   "cell_type": "markdown",
   "metadata": {},
   "source": [
    "### Question 3:\n",
    "Write a Python program to check if the given string is a Palindrome or Anagram or None of them. Display\n",
    "the message accordingly to the user."
   ]
  },
  {
   "cell_type": "code",
   "execution_count": 3,
   "metadata": {},
   "outputs": [
    {
     "name": "stdout",
     "output_type": "stream",
     "text": [
      "cat\n",
      "act\n",
      "string is Anagram\n"
     ]
    }
   ],
   "source": [
    "str1=input()\n",
    "str2=input()\n",
    "if str1==str2[::-1]:\n",
    "    print('String is palindrome')\n",
    "else:\n",
    "    s1=list(str1)\n",
    "    s2=list(str2)\n",
    "    s1.sort()\n",
    "    s2.sort()\n",
    "    if s1==s2:\n",
    "        print('string is Anagram')\n",
    "    else:\n",
    "        print('none of them')"
   ]
  },
  {
   "cell_type": "markdown",
   "metadata": {},
   "source": [
    "### Question 4:\n",
    "Write a Python's user-defined function that removes all the additional characters from the string and\n",
    "convert it finally to lower case using built-in lower(). eg: If the string is \"Dr. Darshan Ingle @AIML Trainer\",\n",
    "then the output be \"drdarshaningleaimltrainer\"."
   ]
  },
  {
   "cell_type": "code",
   "execution_count": 4,
   "metadata": {},
   "outputs": [
    {
     "name": "stdout",
     "output_type": "stream",
     "text": [
      "Dr. Darshan Ingle @AIML Trainer\n",
      "drdarshaningleaimltrainer"
     ]
    }
   ],
   "source": [
    "string=input().lower()\n",
    "for i in string:\n",
    "    if 'a'<=i<='z':\n",
    "        print(i,end='')"
   ]
  },
  {
   "cell_type": "code",
   "execution_count": null,
   "metadata": {},
   "outputs": [],
   "source": []
  }
 ],
 "metadata": {
  "kernelspec": {
   "display_name": "Python 3",
   "language": "python",
   "name": "python3"
  },
  "language_info": {
   "codemirror_mode": {
    "name": "ipython",
    "version": 3
   },
   "file_extension": ".py",
   "mimetype": "text/x-python",
   "name": "python",
   "nbconvert_exporter": "python",
   "pygments_lexer": "ipython3",
   "version": "3.8.3"
  }
 },
 "nbformat": 4,
 "nbformat_minor": 4
}
