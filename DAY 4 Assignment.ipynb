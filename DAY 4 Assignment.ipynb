{
 "cells": [
  {
   "cell_type": "markdown",
   "metadata": {},
   "source": [
    "### Question 1 :\n",
    "Research on whether addition, subtraction, multiplication, division, floor division, and modulo operations\n",
    "be performed on complex numbers. Based on your study, implement a Python program to demonstrate\n",
    "these operations.\n"
   ]
  },
  {
   "cell_type": "code",
   "execution_count": 1,
   "metadata": {},
   "outputs": [
    {
     "name": "stdout",
     "output_type": "stream",
     "text": [
      "var1 = (5+3j)\n",
      "var2 = (2+1j)\n",
      "addition of complex numbers is (7+4j)\n"
     ]
    }
   ],
   "source": [
    "'''Complex Number addition can be performed'''\n",
    "var1=complex(5,3)\n",
    "var2=complex(2,1)\n",
    "print('var1 =',var1)\n",
    "print('var2 =',var2)\n",
    "print('addition of complex numbers is',var1+var2)"
   ]
  },
  {
   "cell_type": "code",
   "execution_count": 2,
   "metadata": {},
   "outputs": [
    {
     "name": "stdout",
     "output_type": "stream",
     "text": [
      "var1 = (5+3j)\n",
      "var2 = (2+1j)\n",
      "subtraction of complex numbers is (3+2j)\n"
     ]
    }
   ],
   "source": [
    "# Complex number substraction can be performed\n",
    "var1=complex(5,3)\n",
    "var2=complex(2,1)\n",
    "print('var1 =',var1)\n",
    "print('var2 =',var2)\n",
    "print('subtraction of complex numbers is',var1-var2)"
   ]
  },
  {
   "cell_type": "code",
   "execution_count": 3,
   "metadata": {},
   "outputs": [
    {
     "name": "stdout",
     "output_type": "stream",
     "text": [
      "var1 = (5+3j)\n",
      "var2 = (2+1j)\n",
      "Multiplication of complex numbers is (7+11j)\n"
     ]
    }
   ],
   "source": [
    "# Complex number multiplication can be performed\n",
    "var1=complex(5,3)\n",
    "var2=complex(2,1)\n",
    "print('var1 =',var1)\n",
    "print('var2 =',var2)\n",
    "print('Multiplication of complex numbers is',var1*var2)"
   ]
  },
  {
   "cell_type": "code",
   "execution_count": 4,
   "metadata": {},
   "outputs": [
    {
     "name": "stdout",
     "output_type": "stream",
     "text": [
      "var1 = (5+3j)\n",
      "var2 = (2+1j)\n",
      "Division of complex numbers is (2.6+0.2j)\n"
     ]
    }
   ],
   "source": [
    "#Complex numbers Division can be performed\n",
    "var1=complex(5,3)\n",
    "var2=complex(2,1)\n",
    "print('var1 =',var1)\n",
    "print('var2 =',var2)\n",
    "print('Division of complex numbers is',var1/var2)"
   ]
  },
  {
   "cell_type": "code",
   "execution_count": 5,
   "metadata": {},
   "outputs": [
    {
     "name": "stdout",
     "output_type": "stream",
     "text": [
      "var1 = (5+3j)\n",
      "var2 = (2+1j)\n"
     ]
    },
    {
     "ename": "TypeError",
     "evalue": "can't take floor of complex number.",
     "output_type": "error",
     "traceback": [
      "\u001b[1;31m---------------------------------------------------------------------------\u001b[0m",
      "\u001b[1;31mTypeError\u001b[0m                                 Traceback (most recent call last)",
      "\u001b[1;32m<ipython-input-5-d22320bc1f54>\u001b[0m in \u001b[0;36m<module>\u001b[1;34m\u001b[0m\n\u001b[0;32m      5\u001b[0m \u001b[0mprint\u001b[0m\u001b[1;33m(\u001b[0m\u001b[1;34m'var1 ='\u001b[0m\u001b[1;33m,\u001b[0m\u001b[0mvar1\u001b[0m\u001b[1;33m)\u001b[0m\u001b[1;33m\u001b[0m\u001b[1;33m\u001b[0m\u001b[0m\n\u001b[0;32m      6\u001b[0m \u001b[0mprint\u001b[0m\u001b[1;33m(\u001b[0m\u001b[1;34m'var2 ='\u001b[0m\u001b[1;33m,\u001b[0m\u001b[0mvar2\u001b[0m\u001b[1;33m)\u001b[0m\u001b[1;33m\u001b[0m\u001b[1;33m\u001b[0m\u001b[0m\n\u001b[1;32m----> 7\u001b[1;33m \u001b[0mprint\u001b[0m\u001b[1;33m(\u001b[0m\u001b[1;34m'Floor Division of complex numbers is'\u001b[0m\u001b[1;33m,\u001b[0m\u001b[0mvar1\u001b[0m\u001b[1;33m//\u001b[0m\u001b[0mvar2\u001b[0m\u001b[1;33m)\u001b[0m\u001b[1;33m\u001b[0m\u001b[1;33m\u001b[0m\u001b[0m\n\u001b[0m",
      "\u001b[1;31mTypeError\u001b[0m: can't take floor of complex number."
     ]
    }
   ],
   "source": [
    "# Complex number floor division can't  be performed bcz as it consists of imaginary and real part in it.\n",
    "# On performing the Operation we will get type error. example give below\n",
    "var1=complex(5,3)\n",
    "var2=complex(2,1)\n",
    "print('var1 =',var1)\n",
    "print('var2 =',var2)\n",
    "print('Floor Division of complex numbers is',var1//var2) "
   ]
  },
  {
   "cell_type": "code",
   "execution_count": 6,
   "metadata": {},
   "outputs": [
    {
     "name": "stdout",
     "output_type": "stream",
     "text": [
      "var1 = (5+3j)\n",
      "var2 = (2+1j)\n"
     ]
    },
    {
     "ename": "TypeError",
     "evalue": "can't mod complex numbers.",
     "output_type": "error",
     "traceback": [
      "\u001b[1;31m---------------------------------------------------------------------------\u001b[0m",
      "\u001b[1;31mTypeError\u001b[0m                                 Traceback (most recent call last)",
      "\u001b[1;32m<ipython-input-6-e4bdd7d3e424>\u001b[0m in \u001b[0;36m<module>\u001b[1;34m\u001b[0m\n\u001b[0;32m      5\u001b[0m \u001b[0mprint\u001b[0m\u001b[1;33m(\u001b[0m\u001b[1;34m'var1 ='\u001b[0m\u001b[1;33m,\u001b[0m\u001b[0mvar1\u001b[0m\u001b[1;33m)\u001b[0m\u001b[1;33m\u001b[0m\u001b[1;33m\u001b[0m\u001b[0m\n\u001b[0;32m      6\u001b[0m \u001b[0mprint\u001b[0m\u001b[1;33m(\u001b[0m\u001b[1;34m'var2 ='\u001b[0m\u001b[1;33m,\u001b[0m\u001b[0mvar2\u001b[0m\u001b[1;33m)\u001b[0m\u001b[1;33m\u001b[0m\u001b[1;33m\u001b[0m\u001b[0m\n\u001b[1;32m----> 7\u001b[1;33m \u001b[0mprint\u001b[0m\u001b[1;33m(\u001b[0m\u001b[1;34m'Modulo of complex numbers is'\u001b[0m\u001b[1;33m,\u001b[0m\u001b[0mvar1\u001b[0m\u001b[1;33m%\u001b[0m\u001b[0mvar2\u001b[0m\u001b[1;33m)\u001b[0m\u001b[1;33m\u001b[0m\u001b[1;33m\u001b[0m\u001b[0m\n\u001b[0m",
      "\u001b[1;31mTypeError\u001b[0m: can't mod complex numbers."
     ]
    }
   ],
   "source": [
    "# Complex number Modulo can't  be performed bcz as it consists of imaginary and real part in it.\n",
    "# On performing the Operation we will get type error. example give below\n",
    "var1=complex(5,3)\n",
    "var2=complex(2,1)\n",
    "print('var1 =',var1)\n",
    "print('var2 =',var2)\n",
    "print('Modulo of complex numbers is',var1%var2) "
   ]
  },
  {
   "cell_type": "markdown",
   "metadata": {},
   "source": [
    "### Question 2 :\n",
    "Research on range() functions and its parameters. Create a markdown cell and write in your own words\n",
    "(no copy-paste from google please) what you understand about it. Implement a small program of your\n",
    "choice on the same."
   ]
  },
  {
   "cell_type": "markdown",
   "metadata": {},
   "source": [
    "* ANSWER: \n",
    "    range() Function:\n",
    "        It returns a sequence of numbers between the give start and stop integer. If start is not specified defaultly starts from 0. It mailny consists of 3 parameters(start,stop,step). \n",
    "        Start- used to specifiy the start point of the range.\n",
    "        stop- used to specify the stop point of the range.\n",
    "        step- where step value can be used as increment or decrement between Start and stop. is step is not specified Defaultly it increments 1 on every iteration.\n",
    "        \n",
    "        SYNTAX:\n",
    "            range(start,stop,step)\n",
    "        "
   ]
  },
  {
   "cell_type": "markdown",
   "metadata": {},
   "source": [
    "### Question 3:\n",
    "Consider two numbers. Perform their subtraction and if the result of subtraction is greater than 25, print\n",
    "their multiplication result else print their division result."
   ]
  },
  {
   "cell_type": "code",
   "execution_count": 7,
   "metadata": {},
   "outputs": [
    {
     "name": "stdout",
     "output_type": "stream",
     "text": [
      "45\n",
      "14\n",
      "multiplication of two numbers is 630\n"
     ]
    }
   ],
   "source": [
    "num1=int(input())\n",
    "num2=int(input())\n",
    "if num1-num2>25:\n",
    "    print(\"multiplication of two numbers is\",num1*num2)\n",
    "else:\n",
    "    print(\"Division of two numbers is\",num1/num2)"
   ]
  },
  {
   "cell_type": "markdown",
   "metadata": {},
   "source": [
    "### Question 4:\n",
    "Consider a list of 10 elements of integer values. If the number in the list is divisible by 2, print the result as\n",
    "\"square of that number minus 2\"."
   ]
  },
  {
   "cell_type": "code",
   "execution_count": 8,
   "metadata": {},
   "outputs": [
    {
     "name": "stdout",
     "output_type": "stream",
     "text": [
      "2\n",
      "14\n",
      "34\n",
      "142\n",
      "2914\n",
      "31990334\n"
     ]
    }
   ],
   "source": [
    "l=[1,2,3,4,5,6,12,343,54,5656]\n",
    "for i in l:\n",
    "    if i%2==0:\n",
    "        print(pow(i,2)-2)"
   ]
  },
  {
   "cell_type": "markdown",
   "metadata": {},
   "source": [
    "### Question 5:\n",
    "Consider a list of 10 elements. Print all the elements in the list which are greater than 7 when that number\n",
    "is divided 2."
   ]
  },
  {
   "cell_type": "code",
   "execution_count": 9,
   "metadata": {},
   "outputs": [
    {
     "name": "stdout",
     "output_type": "stream",
     "text": [
      "15\n",
      "30\n",
      "343\n",
      "54\n",
      "5656\n"
     ]
    }
   ],
   "source": [
    "l=[15,2,30,4,5,6,12,343,54,5656]\n",
    "for i in l:\n",
    "    if i/2>7:\n",
    "        print(i)"
   ]
  },
  {
   "cell_type": "code",
   "execution_count": null,
   "metadata": {},
   "outputs": [],
   "source": []
  }
 ],
 "metadata": {
  "kernelspec": {
   "display_name": "Python 3",
   "language": "python",
   "name": "python3"
  },
  "language_info": {
   "codemirror_mode": {
    "name": "ipython",
    "version": 3
   },
   "file_extension": ".py",
   "mimetype": "text/x-python",
   "name": "python",
   "nbconvert_exporter": "python",
   "pygments_lexer": "ipython3",
   "version": "3.8.3"
  }
 },
 "nbformat": 4,
 "nbformat_minor": 4
}
