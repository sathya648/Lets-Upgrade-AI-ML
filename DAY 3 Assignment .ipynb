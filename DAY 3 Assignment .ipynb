{
 "cells": [
  {
   "cell_type": "markdown",
   "metadata": {},
   "source": [
    "###  1 Write a program to subtract two complex numbers in Python.\n"
   ]
  },
  {
   "cell_type": "code",
   "execution_count": 1,
   "metadata": {},
   "outputs": [
    {
     "name": "stdout",
     "output_type": "stream",
     "text": [
      "var1 = (5+3j)\n",
      "var2 = (2+1j)\n",
      "subtraction of complex numbers is (3+2j)\n"
     ]
    }
   ],
   "source": [
    "# Subtraction of complex numbers\n",
    "var1=complex(5,3)\n",
    "var2=complex(2,1)\n",
    "print('var1 =',var1)\n",
    "print('var2 =',var2)\n",
    "print('subtraction of complex numbers is',var1-var2)"
   ]
  },
  {
   "cell_type": "markdown",
   "metadata": {},
   "source": [
    "### 2 Write a program to find the fourth root of a number."
   ]
  },
  {
   "cell_type": "code",
   "execution_count": 2,
   "metadata": {},
   "outputs": [
    {
     "name": "stdout",
     "output_type": "stream",
     "text": [
      "100\n",
      "fourth root of 100 is 3.1622776601683795\n"
     ]
    }
   ],
   "source": [
    "num=int(input())\n",
    "print(\"fourth root of\",num,\"is\",num**(1/4))"
   ]
  },
  {
   "cell_type": "markdown",
   "metadata": {},
   "source": [
    "### 3 Write a program to swap two numbers in Python with the help of a temporary variable.\n"
   ]
  },
  {
   "cell_type": "code",
   "execution_count": 3,
   "metadata": {},
   "outputs": [
    {
     "name": "stdout",
     "output_type": "stream",
     "text": [
      "10\n",
      "20\n",
      "num1 = 10\n",
      "num2 = 20\n",
      "After swaping \n",
      "num1 = 20\n",
      "num2 = 10\n"
     ]
    }
   ],
   "source": [
    "num1=int(input())\n",
    "num2=int(input())\n",
    "print(\"num1 =\",num1)\n",
    "print(\"num2 =\",num2)\n",
    "temp=num1\n",
    "num1=num2\n",
    "num2=temp\n",
    "\n",
    "print(\"After swaping \")\n",
    "print(\"num1 =\",num1)\n",
    "print(\"num2 =\",num2)"
   ]
  },
  {
   "cell_type": "markdown",
   "metadata": {},
   "source": [
    "### 4 Write a program to swap two numbers in Python without using a temporary variable.\n"
   ]
  },
  {
   "cell_type": "code",
   "execution_count": 4,
   "metadata": {},
   "outputs": [
    {
     "name": "stdout",
     "output_type": "stream",
     "text": [
      "10\n",
      "20\n",
      "num1 = 10\n",
      "num2 = 20\n",
      "After swaping \n",
      "num1 = 20\n",
      "num2 = 10\n"
     ]
    }
   ],
   "source": [
    "num1=int(input())\n",
    "num2=int(input())\n",
    "print(\"num1 =\",num1)\n",
    "print(\"num2 =\",num2)\n",
    "num1,num2=num2,num1\n",
    "print(\"After swaping \")\n",
    "print(\"num1 =\",num1)\n",
    "print(\"num2 =\",num2)"
   ]
  },
  {
   "cell_type": "markdown",
   "metadata": {},
   "source": [
    "### 5 write a program to convert fahrenheit to kelvin and celsius both in python"
   ]
  },
  {
   "cell_type": "code",
   "execution_count": 5,
   "metadata": {},
   "outputs": [
    {
     "name": "stdout",
     "output_type": "stream",
     "text": [
      "110\n",
      "Temperature in kelvin is 316.8333333333333\n",
      "Temperature in Celsius is 43.333333333333336\n"
     ]
    }
   ],
   "source": [
    "##############################################################################\n",
    "#    convert fahrenheit to kelvin\n",
    "#--------------------------------------------------\n",
    "num=int(input())\n",
    "\n",
    "K = 273.5 + ((num - 32.0) * (5.0/9.0))\n",
    "print(\"Temperature in kelvin is\",K)\n",
    "\n",
    "\n",
    "##############################################################################\n",
    "#    convert fahrenheit to Celsius\n",
    "#--------------------------------------------------\n",
    "C=(num - 32) * 5 / 9\n",
    "\n",
    "print(\"Temperature in Celsius is\",C)"
   ]
  },
  {
   "cell_type": "markdown",
   "metadata": {},
   "source": [
    "### 6 Write a program to demonstrate all the available data types in Python. Hint: Use type() function."
   ]
  },
  {
   "cell_type": "code",
   "execution_count": 6,
   "metadata": {},
   "outputs": [
    {
     "name": "stdout",
     "output_type": "stream",
     "text": [
      "<class 'int'>\n",
      "<class 'float'>\n",
      "<class 'str'>\n",
      "<class 'bool'>\n",
      "<class 'list'>\n",
      "<class 'tuple'>\n",
      "<class 'dict'>\n"
     ]
    }
   ],
   "source": [
    "num=1\n",
    "print(type(num))\n",
    "decimal=7.0\n",
    "print(type(decimal))\n",
    "string=' LETS UPGRADE '\n",
    "print(type(string))\n",
    "boolean=True\n",
    "print(type(boolean))\n",
    "list1=[1,2]\n",
    "print(type(list1))\n",
    "tup=(11,2)\n",
    "print(type(tup))\n",
    "dic={}\n",
    "print(type(dic))"
   ]
  },
  {
   "cell_type": "code",
   "execution_count": null,
   "metadata": {},
   "outputs": [],
   "source": []
  }
 ],
 "metadata": {
  "kernelspec": {
   "display_name": "Python 3",
   "language": "python",
   "name": "python3"
  },
  "language_info": {
   "codemirror_mode": {
    "name": "ipython",
    "version": 3
   },
   "file_extension": ".py",
   "mimetype": "text/x-python",
   "name": "python",
   "nbconvert_exporter": "python",
   "pygments_lexer": "ipython3",
   "version": "3.8.3"
  }
 },
 "nbformat": 4,
 "nbformat_minor": 4
}
