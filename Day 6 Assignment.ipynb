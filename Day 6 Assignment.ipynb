{
 "cells": [
  {
   "cell_type": "markdown",
   "metadata": {},
   "source": [
    "### Question 1 :\n",
    "Assuming that we have some email addresses in the \"username@companyname.com\" format, please\n",
    "write a program to print the company name of a given email address. Both user names and company\n",
    "names are composed of letters only.\n",
    "Input Format:\n",
    "The first line of the input contains an email address.\n",
    "Output Format:\n",
    "Print the company name in a single line.\n",
    "Example;\n",
    "Input:\n",
    "john@google.com\n",
    "Output:\n",
    "google."
   ]
  },
  {
   "cell_type": "code",
   "execution_count": 1,
   "metadata": {
    "scrolled": true
   },
   "outputs": [
    {
     "name": "stdout",
     "output_type": "stream",
     "text": [
      "john@google.com\n",
      "google\n"
     ]
    }
   ],
   "source": [
    "email=input().split('@')\n",
    "company=email[-1].split('.')\n",
    "print(company[0])\n"
   ]
  },
  {
   "cell_type": "markdown",
   "metadata": {},
   "source": [
    "### Question 2\n",
    "    Write a program that accepts a comma-separated sequence of words as input and prints the words in a comma-separated sequence after sorting them alphabetically.\n",
    "    \n",
    "Input Format:\n",
    "The first line of input contains words separated by the comma.\n",
    "\n",
    "Output Format:\n",
    "Print the sorted words separated by the comma.\n",
    "\n",
    "Example:\n",
    "Input:\n",
    "without,hello,bag,world\n",
    "\n",
    "Output:\n",
    "bag,hello,without,world"
   ]
  },
  {
   "cell_type": "code",
   "execution_count": 2,
   "metadata": {},
   "outputs": [
    {
     "name": "stdout",
     "output_type": "stream",
     "text": [
      "without,hello,bag,world\n",
      "bag,hello,without,world,"
     ]
    }
   ],
   "source": [
    "n=list(input().split(','))\n",
    "n.sort()\n",
    "for i in n:\n",
    "    print(i,end=\"\")\n",
    "    print(',',end=\"\")"
   ]
  },
  {
   "cell_type": "markdown",
   "metadata": {},
   "source": [
    "# SETS\n",
    "\n",
    "    * It is a collection of elements\n",
    "    * It is in Unordered where there is no preorder specified while printing.\n",
    "    * It is Unindexed because with index we cannot access the elements in the set.\n",
    "    * It is defined by {} \n",
    "    example:\n",
    "        sets={'a','b'}\n",
    "    "
   ]
  },
  {
   "cell_type": "code",
   "execution_count": 3,
   "metadata": {},
   "outputs": [
    {
     "name": "stdout",
     "output_type": "stream",
     "text": [
      "{'ML', 'AI', 'DL', 'NLP'}\n"
     ]
    },
    {
     "data": {
      "text/plain": [
       "{'AI', 'DL', 'ML', 'NLP'}"
      ]
     },
     "execution_count": 3,
     "metadata": {},
     "output_type": "execute_result"
    }
   ],
   "source": [
    "set_val={'AI','ML','DL','NLP'}\n",
    "print(set_val)\n",
    "set_val"
   ]
  },
  {
   "cell_type": "code",
   "execution_count": 4,
   "metadata": {},
   "outputs": [
    {
     "name": "stdout",
     "output_type": "stream",
     "text": [
      "ML\n",
      "AI\n",
      "DL\n",
      "NLP\n"
     ]
    }
   ],
   "source": [
    "# using loop to prit set elements \n",
    "for i in set_val:\n",
    "    print(i)"
   ]
  },
  {
   "cell_type": "code",
   "execution_count": 5,
   "metadata": {},
   "outputs": [
    {
     "name": "stdout",
     "output_type": "stream",
     "text": [
      "True\n",
      "False\n"
     ]
    }
   ],
   "source": [
    "# we can also check whether a given values is exists in it or not\n",
    "print('NLP' in set_val )\n",
    "print('Upgrade' in set_val)"
   ]
  },
  {
   "cell_type": "markdown",
   "metadata": {},
   "source": [
    "* Set is immutable once created the items in it can't be changed but new items can be added"
   ]
  },
  {
   "cell_type": "code",
   "execution_count": 6,
   "metadata": {},
   "outputs": [
    {
     "name": "stdout",
     "output_type": "stream",
     "text": [
      "{'ML', 'AI', 'DL', 'NLP'}\n",
      "{'ML', 'Ds', 'NLP', 'DL', 'AI'}\n"
     ]
    }
   ],
   "source": [
    "#-----------------------------------------\n",
    "#         Adding items to set\n",
    "#-----------------------------------------\n",
    "''' add() method is used to add the new item at the end'''\n",
    "print(set_val)\n",
    "set_val.add('Ds')\n",
    "print(set_val)"
   ]
  },
  {
   "cell_type": "code",
   "execution_count": 7,
   "metadata": {},
   "outputs": [
    {
     "name": "stdout",
     "output_type": "stream",
     "text": [
      "{'ML', 'Ds', 'NLP', 'DL', 'AI'}\n",
      "{'ML', 'Ds', 'NLP', 'DL', 'Stats', 'DA', 'AI', 'PCA'}\n"
     ]
    }
   ],
   "source": [
    "#----------------------------------\n",
    "#        Adding multiple items to the set\n",
    "#----------------------------------\n",
    "print(set_val)\n",
    "set_val.update(['Stats','DA','PCA'])\n",
    "print(set_val)"
   ]
  },
  {
   "cell_type": "code",
   "execution_count": 8,
   "metadata": {},
   "outputs": [
    {
     "name": "stdout",
     "output_type": "stream",
     "text": [
      "8\n"
     ]
    }
   ],
   "source": [
    "# length of set\n",
    "print(len(set_val))"
   ]
  },
  {
   "cell_type": "code",
   "execution_count": 9,
   "metadata": {},
   "outputs": [
    {
     "name": "stdout",
     "output_type": "stream",
     "text": [
      "{'ML', 'Ds', 'NLP', 'DL', 'Stats', 'DA', 'AI', 'PCA'}\n",
      "{'ML', 'Ds', 'NLP', 'DL', 'DA', 'AI', 'PCA'}\n"
     ]
    }
   ],
   "source": [
    "#-------------------------------------------\n",
    "#                 to remove the elements from the set\n",
    "#_______________________________________________________\n",
    "\n",
    "\"\"\" Two methods are used to remove elements\n",
    "1. remove() method - by specifying the item it will be removed \n",
    "    if item not exists it through an error\n",
    "\n",
    "2. discard() - same as remove but it will not through any error it item not exists\n",
    "\n",
    "\"\"\"\n",
    "\n",
    "#set_val.remove('PCA')\n",
    "\n",
    "print(set_val)\n",
    "\n",
    "set_val.discard('Stats')\n",
    "\n",
    "print(set_val)\n",
    "\n",
    "\n",
    "\n"
   ]
  },
  {
   "cell_type": "code",
   "execution_count": 10,
   "metadata": {},
   "outputs": [
    {
     "name": "stdout",
     "output_type": "stream",
     "text": [
      "set()\n"
     ]
    }
   ],
   "source": [
    "#--------------------\n",
    "''' pop() function is also used to remove the elements but it will remove last element we cant\n",
    "tell which item will be poped out'''\n",
    "set_val.clear()\n",
    "print(set_val)"
   ]
  },
  {
   "cell_type": "code",
   "execution_count": 11,
   "metadata": {},
   "outputs": [
    {
     "ename": "NameError",
     "evalue": "name 'set_val' is not defined",
     "output_type": "error",
     "traceback": [
      "\u001b[1;31m---------------------------------------------------------------------------\u001b[0m",
      "\u001b[1;31mNameError\u001b[0m                                 Traceback (most recent call last)",
      "\u001b[1;32m<ipython-input-11-a9aae34de7ed>\u001b[0m in \u001b[0;36m<module>\u001b[1;34m\u001b[0m\n\u001b[0;32m      1\u001b[0m \u001b[1;32mdel\u001b[0m \u001b[0mset_val\u001b[0m\u001b[1;33m\u001b[0m\u001b[1;33m\u001b[0m\u001b[0m\n\u001b[1;32m----> 2\u001b[1;33m \u001b[0mprint\u001b[0m\u001b[1;33m(\u001b[0m\u001b[0mset_val\u001b[0m\u001b[1;33m)\u001b[0m\u001b[1;33m\u001b[0m\u001b[1;33m\u001b[0m\u001b[0m\n\u001b[0m",
      "\u001b[1;31mNameError\u001b[0m: name 'set_val' is not defined"
     ]
    }
   ],
   "source": [
    "del set_val\n",
    "print(set_val)"
   ]
  },
  {
   "cell_type": "code",
   "execution_count": 12,
   "metadata": {},
   "outputs": [
    {
     "name": "stdout",
     "output_type": "stream",
     "text": [
      "{'ML', 'Ds', 'NLP', 'DL', 'DA', 'keras', 'AI', 'FP', 'PCA'}\n"
     ]
    }
   ],
   "source": [
    "set_val={'Ds', 'ML', 'DL', 'DA', 'NLP', 'AI'}\n",
    "set2={'Ds', 'ML', 'DL','PCA','keras','FP'}\n",
    "joining= set_val.union(set2)\n",
    "print(joining)"
   ]
  },
  {
   "cell_type": "code",
   "execution_count": 13,
   "metadata": {},
   "outputs": [
    {
     "name": "stdout",
     "output_type": "stream",
     "text": [
      "{'ML', 'Ds', 'NLP', 'DL', 'DA', 'keras', 'AI', 'FP', 'PCA'}\n"
     ]
    }
   ],
   "source": [
    "set_val.update(set2)\n",
    "print(set_val)\n",
    "\n",
    "\n",
    "#--------------------------------------------------------------\n",
    "# Union and update will not allow duplicates\n",
    "#________________________________________________________________________________"
   ]
  },
  {
   "cell_type": "markdown",
   "metadata": {},
   "source": [
    "### Question 4:\n",
    "Given a list of n-1 numbers ranging from 1 to n, your task is to find the missing number. There are no\n",
    "duplicates.\n",
    "\n",
    "Input Format:\n",
    "\n",
    "The first line contains n-1 numbers with each number separated by a space.\n",
    "\n",
    "Output Format:\n",
    "\n",
    "Print the missing number\n",
    "\n",
    "Example:\n",
    "Input:\n",
    "\n",
    "1 2 4 6 3 7 8\n",
    "Output:\n",
    "\n",
    "5\n",
    "Explanation:\n",
    "\n",
    "In the above list of numbers 5 is missing and hence 5 is the input"
   ]
  },
  {
   "cell_type": "code",
   "execution_count": 14,
   "metadata": {},
   "outputs": [
    {
     "name": "stdout",
     "output_type": "stream",
     "text": [
      "1 2 4 6 3 7 8\n",
      "5\n"
     ]
    }
   ],
   "source": [
    "l=[int(i) for i in input().split()]\n",
    "l.sort()\n",
    "for i in range(len(l)-1):\n",
    "    if l[i]+1!=l[i+1]:\n",
    "        print(l[i]+1)"
   ]
  },
  {
   "cell_type": "markdown",
   "metadata": {},
   "source": [
    "Question 5:\n",
    "With a given list L, write a program to print this list L after removing all duplicate values with original order reserved.\n",
    "\n",
    "Example:\n",
    "\n",
    "If the input list is\n",
    "\n",
    "12 24 35 24 88 120 155 88 120 155\n",
    "\n",
    "Then the output should be\n",
    "\n",
    "12 24 35 88 120 155\n",
    "\n",
    "Explanation:\n",
    "\n",
    "Third, the seventh and ninth element of the list L has been removed because it was already present.\n",
    "\n",
    "Input Format:\n",
    "\n",
    "In one line take the elements of the list L with each element separated by a space.\n",
    "\n",
    "Output Format:\n",
    "\n",
    "Print the elements of the modified list in one line with each element separated by a space.\n",
    "\n",
    "Example:\n",
    "\n",
    "Input:\n",
    "12 24 35 24\n",
    "\n",
    "Output:\n",
    "12 24"
   ]
  },
  {
   "cell_type": "code",
   "execution_count": 19,
   "metadata": {},
   "outputs": [
    {
     "name": "stdout",
     "output_type": "stream",
     "text": [
      "12 24 35 24 88 120 155 88 120 155\n",
      "[12, 24, 35, 88, 120, 155]\n"
     ]
    }
   ],
   "source": [
    "l=[int(i) for i in input().split()]\n",
    "\n",
    "\n",
    "result1=[]\n",
    "[result1.append(i) for i in l if i not in result1]\n",
    "\n",
    "\n",
    "\n",
    "print(result1)"
   ]
  },
  {
   "cell_type": "code",
   "execution_count": null,
   "metadata": {},
   "outputs": [],
   "source": []
  }
 ],
 "metadata": {
  "kernelspec": {
   "display_name": "Python 3",
   "language": "python",
   "name": "python3"
  },
  "language_info": {
   "codemirror_mode": {
    "name": "ipython",
    "version": 3
   },
   "file_extension": ".py",
   "mimetype": "text/x-python",
   "name": "python",
   "nbconvert_exporter": "python",
   "pygments_lexer": "ipython3",
   "version": "3.8.3"
  }
 },
 "nbformat": 4,
 "nbformat_minor": 4
}
