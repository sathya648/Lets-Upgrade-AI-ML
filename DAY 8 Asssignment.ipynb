{
 "cells": [
  {
   "cell_type": "markdown",
   "metadata": {},
   "source": [
    "### Question 1:\n",
    "Recreate “NB 21 map, filter, lambda.ipynb” to try different variations or perform different calculations from\n",
    "the ones that are in the NB\n"
   ]
  },
  {
   "cell_type": "code",
   "execution_count": 1,
   "metadata": {},
   "outputs": [
    {
     "name": "stdout",
     "output_type": "stream",
     "text": [
      "[23.2, 7.43, 343.432, 44.3479, 56.24241, 9.01344]\n"
     ]
    }
   ],
   "source": [
    "areas=[23.232323,7.4334,343.43232,44.347893,56.24241, 9.01344]\n",
    "\n",
    "x= list( map (round ,areas,range(1,7)))\n",
    "\n",
    "print(x)"
   ]
  },
  {
   "cell_type": "code",
   "execution_count": 2,
   "metadata": {},
   "outputs": [
    {
     "name": "stdout",
     "output_type": "stream",
     "text": [
      "[23.2, 7.43, 343.432, 44.3479]\n"
     ]
    }
   ],
   "source": [
    "areas=[23.232323,7.4334,343.43232,44.347893,56.24241, 9.01344]\n",
    "\n",
    "x= list( map (round ,areas,range(1,5)))\n",
    "\n",
    "print(x)"
   ]
  },
  {
   "cell_type": "code",
   "execution_count": 3,
   "metadata": {},
   "outputs": [
    {
     "name": "stdout",
     "output_type": "stream",
     "text": [
      "[4, 27, 256, 3125, 46656, 823543, 16777216, 387420489]\n"
     ]
    }
   ],
   "source": [
    "num=[2,3,4,5,6,7,8,9]\n",
    "\n",
    "power=list(map(lambda x:x**x,num))\n",
    "\n",
    "print(power)"
   ]
  },
  {
   "cell_type": "code",
   "execution_count": 4,
   "metadata": {},
   "outputs": [
    {
     "name": "stdout",
     "output_type": "stream",
     "text": [
      "['ALPHA', 'BETA', 'GAMA']\n"
     ]
    }
   ],
   "source": [
    "names=['alpha','beta','gama']\n",
    "\n",
    "x=list(map(str.upper,names))\n",
    "\n",
    "print(x)"
   ]
  },
  {
   "cell_type": "code",
   "execution_count": 5,
   "metadata": {},
   "outputs": [
    {
     "name": "stdout",
     "output_type": "stream",
     "text": [
      "[37.5, 33.0, 24.5, 21.0]\n"
     ]
    }
   ],
   "source": [
    "\n",
    "a = [1, 2, 3, 4]\n",
    "b = [17, 12, 11, 10]\n",
    "c = [-1, -4, 5, 9] \n",
    "\n",
    "num=list(map(lambda x, y, z : 2.5*x + 2*y - z, a, b, c))\n",
    "\n",
    "print(num)\n"
   ]
  },
  {
   "cell_type": "code",
   "execution_count": 6,
   "metadata": {},
   "outputs": [
    {
     "name": "stdout",
     "output_type": "stream",
     "text": [
      "[('a', 1), ('b', 2), ('c', 3), ('d', 4), ('e', 5)]\n"
     ]
    }
   ],
   "source": [
    "string=['a','b','c','d','e']\n",
    "num=[1,2,3,4,5]\n",
    "\n",
    "mapp=list(map(lambda x,y:(x,y),string,num))\n",
    "\n",
    "print(mapp)"
   ]
  },
  {
   "cell_type": "code",
   "execution_count": 7,
   "metadata": {},
   "outputs": [
    {
     "name": "stdout",
     "output_type": "stream",
     "text": [
      "['ot', 'yrt', 'tnereffid', 'snoitairav', 'ro', 'mrofrep', 'tnereffid', 'snoitaluclac', 'morf']\n"
     ]
    }
   ],
   "source": [
    "x=['to',\n",
    " 'try',\n",
    " 'different',\n",
    " 'variations',\n",
    " 'or',\n",
    " 'perform',\n",
    " 'different',\n",
    " 'calculations',\n",
    " 'from']\n",
    "reverse=list(map(lambda x:x[::-1],x))\n",
    "\n",
    "print(reverse)\n"
   ]
  },
  {
   "cell_type": "code",
   "execution_count": 8,
   "metadata": {},
   "outputs": [
    {
     "name": "stdout",
     "output_type": "stream",
     "text": [
      "[2, 4, 6, 8, 10, 12, 14, 16, 18, 20, 22, 24, 26, 28, 30, 32, 34, 36, 38, 40, 42, 44, 46, 48]\n"
     ]
    }
   ],
   "source": [
    "even=list(filter(lambda x:x%2==0,range(1,50)))\n",
    "print(even)"
   ]
  },
  {
   "cell_type": "code",
   "execution_count": 9,
   "metadata": {},
   "outputs": [
    {
     "name": "stdout",
     "output_type": "stream",
     "text": [
      "[1, 3, 5, 7, 9, 11, 13, 15, 17, 19, 21, 23, 25, 27, 29, 31, 33, 35, 37, 39, 41, 43, 45, 47, 49]\n"
     ]
    }
   ],
   "source": [
    "odd=list(filter(lambda x:x%2!=0,range(1,50)))\n",
    "print(odd)"
   ]
  },
  {
   "cell_type": "code",
   "execution_count": 10,
   "metadata": {},
   "outputs": [
    {
     "data": {
      "text/plain": [
       "1225"
      ]
     },
     "execution_count": 10,
     "metadata": {},
     "output_type": "execute_result"
    }
   ],
   "source": [
    "from functools import reduce\n",
    "\n",
    "num=reduce(lambda x, y: x+y, range(1,50))\n",
    "\n",
    "num"
   ]
  },
  {
   "cell_type": "code",
   "execution_count": 11,
   "metadata": {},
   "outputs": [
    {
     "data": {
      "text/plain": [
       "102"
      ]
     },
     "execution_count": 11,
     "metadata": {},
     "output_type": "execute_result"
    }
   ],
   "source": [
    "maximum = lambda a,b: a if (a > b) else b\n",
    "reduce(maximum, [47,11,42,102,13])"
   ]
  },
  {
   "cell_type": "code",
   "execution_count": 12,
   "metadata": {},
   "outputs": [
    {
     "data": {
      "text/plain": [
       "11"
      ]
     },
     "execution_count": 12,
     "metadata": {},
     "output_type": "execute_result"
    }
   ],
   "source": [
    "min=lambda a,b:a if a<b else b\n",
    "reduce(min, [47,11,42,102,13])\n"
   ]
  },
  {
   "cell_type": "markdown",
   "metadata": {},
   "source": [
    "### Question 2:\n",
    "Recreate your own Python NB for “Classes and Objects” from the pdf provided namely\n",
    "“Classes&Objects.pdf”"
   ]
  },
  {
   "cell_type": "markdown",
   "metadata": {},
   "source": [
    "## Classes and Objects"
   ]
  },
  {
   "cell_type": "markdown",
   "metadata": {},
   "source": [
    "Class: \n",
    "\n",
    "    A user-defined prototype for an object that defines a set of attributes that characterize any object of the class. Classes define functions called methods, which identify the behaviors and actions that an object created from the class can perform with its data.\n",
    "    \n",
    "    A class is a blueprint for how something should be defined. It doesn’t actually contain any data. \n",
    "    \n",
    "How to Define a Class\n",
    "\n",
    "    All class definitions start with the class keyword, which is followed by the name of the class and a colon. Any code that is indented below the class definition is considered part of the class’s body."
   ]
  },
  {
   "cell_type": "code",
   "execution_count": 13,
   "metadata": {},
   "outputs": [],
   "source": [
    "# Creating a class with name Student\n",
    "\n",
    "class Employee:\n",
    "    \n",
    "     # Class attribute\n",
    "        \n",
    "    Company = \"LETS UPGRADE\"\n",
    "    \n",
    "    \"\"\"class attributes are attributes that have the same value for all class instances.\n",
    "    You can define a class attribu\"\"\"\n",
    "\n",
    "    def __init__(self, name, age):\n",
    "        '''Attributes created in .__init__() are called instance attributes. \n",
    "        An instance attribute’s value is specific to a particular instance of the class.'''\n",
    "        self.name = name\n",
    "        self.age = age\n",
    "'''#_________________________________________________________\n",
    "                Creating Instance objects\n",
    "    _________________________________________________________\n",
    "To create instance of a class, we will call the class using class name and pass\n",
    "in the arguments whatever specified in __init__ method.'''\n",
    "\n",
    "# creating 1st object of Employee class\n",
    "\n",
    "emp1=Employee('Sathya','20')\n",
    "\n",
    "# creating 1st object of Employee class\n",
    "\n",
    "emp2=Employee(\"Manoj\",'20')\n"
   ]
  },
  {
   "cell_type": "code",
   "execution_count": 14,
   "metadata": {},
   "outputs": [
    {
     "name": "stdout",
     "output_type": "stream",
     "text": [
      "Object belongs to employee SATHYA\n",
      "Object belongs to employee Manoj\n"
     ]
    }
   ],
   "source": [
    "class Employee:\n",
    "    Company='LETS UPGRADE'\n",
    "    No_of_emp=0\n",
    "    \n",
    "    def __init__(self,name,age):\n",
    "        self.name=name\n",
    "        self.age=age\n",
    "        Employee.No_of_emp+=1\n",
    "        \n",
    "    def __str__(self):\n",
    "        return \"Object belongs to employee \"+ self.name\n",
    "    \n",
    "    def Detail_of_emp(self):\n",
    "        print(\"Name :\",self.name,\"\\nAge :\",self.age)\n",
    "    \n",
    "    def Total_no_emp(self):\n",
    "        print(\" Total Number of Employees in\",Employee.Company,'is',Employee.No_of_emp)\n",
    "        \n",
    "emp1=Employee(\"SATHYA\",20)\n",
    "emp2=Employee(\"Manoj\",20)\n",
    "\n",
    "#_____________________________________________________________________\n",
    "'''      Accesing the Attributes of a class\n",
    " _____________________________________________________________________'''\n",
    " \n",
    "print(emp1)\n",
    "print(emp2)\n",
    "    "
   ]
  },
  {
   "cell_type": "code",
   "execution_count": 15,
   "metadata": {},
   "outputs": [
    {
     "name": "stdout",
     "output_type": "stream",
     "text": [
      "Name : SATHYA \n",
      "Age : 20\n"
     ]
    }
   ],
   "source": [
    "emp1.Detail_of_emp()"
   ]
  },
  {
   "cell_type": "code",
   "execution_count": 16,
   "metadata": {},
   "outputs": [
    {
     "name": "stdout",
     "output_type": "stream",
     "text": [
      "Name : Manoj \n",
      "Age : 20\n"
     ]
    }
   ],
   "source": [
    "emp2.Detail_of_emp()"
   ]
  },
  {
   "cell_type": "code",
   "execution_count": 17,
   "metadata": {},
   "outputs": [
    {
     "data": {
      "text/plain": [
       "2"
      ]
     },
     "execution_count": 17,
     "metadata": {},
     "output_type": "execute_result"
    }
   ],
   "source": [
    "emp1.No_of_emp"
   ]
  },
  {
   "cell_type": "markdown",
   "metadata": {},
   "source": [
    "Instead of using the normal statements to access attributes, you can use the following functions:\n",
    "\n",
    " The getattr(obj, name[, default]) : to access the attribute of object. Returns value of attribute\n",
    "\n",
    " The hasattr(obj,name) : to check if an attribute exists or not. Returns true if attribute exists\n",
    "\n",
    " The setattr(obj,name,value) : to set an attribute. If attribute does not exist, then it would be created.  Set attribute to the specified value.\n",
    "\n",
    " The delattr(obj, name) : to delete an attribute. It will Delete attribute"
   ]
  },
  {
   "cell_type": "code",
   "execution_count": 18,
   "metadata": {},
   "outputs": [
    {
     "data": {
      "text/plain": [
       "'SATHYA'"
      ]
     },
     "execution_count": 18,
     "metadata": {},
     "output_type": "execute_result"
    }
   ],
   "source": [
    "getattr(emp1,'name')"
   ]
  },
  {
   "cell_type": "code",
   "execution_count": 19,
   "metadata": {},
   "outputs": [
    {
     "data": {
      "text/plain": [
       "True"
      ]
     },
     "execution_count": 19,
     "metadata": {},
     "output_type": "execute_result"
    }
   ],
   "source": [
    "hasattr(emp2,'age')"
   ]
  },
  {
   "cell_type": "code",
   "execution_count": 20,
   "metadata": {},
   "outputs": [
    {
     "data": {
      "text/plain": [
       "False"
      ]
     },
     "execution_count": 20,
     "metadata": {},
     "output_type": "execute_result"
    }
   ],
   "source": [
    "hasattr(emp2,'ageee')"
   ]
  },
  {
   "cell_type": "code",
   "execution_count": 21,
   "metadata": {},
   "outputs": [
    {
     "name": "stdout",
     "output_type": "stream",
     "text": [
      "20\n",
      "21\n"
     ]
    }
   ],
   "source": [
    "print(getattr(emp1,'age'))\n",
    "setattr(emp1,'age',21)\n",
    "print(getattr(emp1,'age'))\n"
   ]
  },
  {
   "cell_type": "code",
   "execution_count": 22,
   "metadata": {},
   "outputs": [
    {
     "name": "stdout",
     "output_type": "stream",
     "text": [
      "Employee.__doc__: None\n",
      "Employee.__name__: Employee\n",
      "Employee.__module__: __main__\n",
      "Employee.__bases__: (<class 'object'>,)\n",
      "Employee.__dict__: {'__module__': '__main__', 'Company': 'LETS UPGRADE', 'No_of_emp': 2, '__init__': <function Employee.__init__ at 0x0000021554113C10>, '__str__': <function Employee.__str__ at 0x0000021554113CA0>, 'Detail_of_emp': <function Employee.Detail_of_emp at 0x0000021554113D30>, 'Total_no_emp': <function Employee.Total_no_emp at 0x0000021554113DC0>, '__dict__': <attribute '__dict__' of 'Employee' objects>, '__weakref__': <attribute '__weakref__' of 'Employee' objects>, '__doc__': None}\n"
     ]
    }
   ],
   "source": [
    "print (\"Employee.__doc__:\", Employee.__doc__)\n",
    "print (\"Employee.__name__:\", Employee.__name__)\n",
    "print (\"Employee.__module__:\", Employee.__module__)\n",
    "\n",
    "print (\"Employee.__bases__:\", Employee.__bases__)\n",
    "\n",
    "print (\"Employee.__dict__:\", Employee.__dict__)"
   ]
  },
  {
   "cell_type": "markdown",
   "metadata": {},
   "source": [
    "### Methods\n",
    "Methods are functions defined inside the body of a class. They are used to define the behaviors of an object."
   ]
  },
  {
   "cell_type": "code",
   "execution_count": 23,
   "metadata": {},
   "outputs": [
    {
     "name": "stdout",
     "output_type": "stream",
     "text": [
      "Blu sings 'Happy'\n",
      "Blu is now dancing\n"
     ]
    }
   ],
   "source": [
    "class Parrot:\n",
    "    \n",
    "    # instance attributes\n",
    "    def __init__(self, name, age):\n",
    "        self.name = name\n",
    "        self.age = age\n",
    "    \n",
    "    # instance method\n",
    "    def sing(self, song):\n",
    "        return \"{} sings {}\".format(self.name, song)\n",
    "\n",
    "    def dance(self):\n",
    "        return \"{} is now dancing\".format(self.name)\n",
    "\n",
    "# instantiate the object\n",
    "blu = Parrot(\"Blu\", 10)\n",
    "\n",
    "# call our instance methods\n",
    "print(blu.sing(\"'Happy'\"))\n",
    "print(blu.dance())\n",
    "\n",
    "#'''we defined two methods sing() and dance().\n",
    "#These are called instance methods because they are called using instance object  blu.'''\n",
    "\n"
   ]
  },
  {
   "cell_type": "markdown",
   "metadata": {},
   "source": [
    "### Inheritance\n",
    "Inheritance is a way of creating a new class for using details of an existing class without modifying it. The newly formed class is a derived class (or child class). Similarly, the existing class is a base class (or parent class).\n",
    "\n",
    "* Use of Inheritance in Python"
   ]
  },
  {
   "cell_type": "code",
   "execution_count": 24,
   "metadata": {},
   "outputs": [
    {
     "name": "stdout",
     "output_type": "stream",
     "text": [
      "Bird constructor is ready\n",
      "this is parrot constructor\n",
      "instance method of Parrot\n",
      "Birds will not swim\n",
      "Fly faster\n"
     ]
    }
   ],
   "source": [
    "# PARENT class\n",
    "class Bird:\n",
    "    \n",
    "    def __init__(self):\n",
    "        print(\"Bird constructor is ready\")\n",
    "    \n",
    "    def whoisthis(self):\n",
    "        print(\"Instance method of bird\")\n",
    "    \n",
    "    def swim(self):\n",
    "        print(\"Birds will not swim\")\n",
    "# CHILD class\n",
    "class Parrot(Bird):\n",
    "    def __init__(self):\n",
    "        # Calling super() function\n",
    "        \n",
    "        super().__init__()\n",
    "        \n",
    "        print(\"this is parrot constructor\")\n",
    "        \n",
    "    def whoisthis(self):\n",
    "        print(\"instance method of Parrot\")\n",
    "        \n",
    "    def Fly(self):\n",
    "        print(\"Fly faster\")\n",
    "\n",
    "par=Parrot()\n",
    "par.whoisthis()\n",
    "par.swim()\n",
    "par.Fly()\n",
    "\n",
    "# \"\"\"\n",
    "# we created two classes  Bird (parent class) and Parrot (child class). The child class inherits the functions of parent class. We can see this from the swim() method.\n",
    "# Again, the child class modified the behavior of the parent class. We can see this from the whoisThis() method. Furthermore, we extend the functions of the parent class, by creating a new run() method.\n",
    "\n",
    "# Additionally, we use the super() function inside the __init__() method. This allows us to run the __init__() method of the parent class inside the child class.\n",
    "# \"\"\""
   ]
  },
  {
   "cell_type": "markdown",
   "metadata": {},
   "source": [
    "### Encapsulation\n",
    "Using OOP in Python, we can restrict access to methods and variables. This prevents data from direct modification which is called encapsulation. In Python, we denote private attributes using underscore as the prefix single _ or double __.\n",
    "\n",
    " * Data Encapsulation in Python"
   ]
  },
  {
   "cell_type": "code",
   "execution_count": 25,
   "metadata": {},
   "outputs": [
    {
     "name": "stdout",
     "output_type": "stream",
     "text": [
      "Selling Price : 900\n",
      "Selling Price : 900\n",
      "Selling Price : 1000\n"
     ]
    }
   ],
   "source": [
    "class Computer:\n",
    "    def __init__(self):\n",
    "        self.__maxprice=900\n",
    "    \n",
    "    def sell(self):\n",
    "        print(\"Selling Price :\",self.__maxprice)\n",
    "        \n",
    "    def setmaxprice(self,price):\n",
    "        self.__maxprice=price\n",
    "\n",
    "c=Computer()\n",
    "\n",
    "c.sell()\n",
    "\n",
    "c.__maxprice=1000\n",
    "\n",
    "c.sell()\n",
    "\n",
    "c.setmaxprice(1000)\n",
    "\n",
    "c.sell()\n",
    "# _____________________________________________________________________________________________________________\n",
    "# we defined a Computer class.\n",
    "\n",
    "# We used __init__() method to store the maximum selling price of Computer. We tried to modify the price.\n",
    "# However, we can't change it because Python treats the __maxprice as private attributes.\n",
    "\n",
    "#  to change the value, we have to use a setter function  setMaxPrice() which takes price as a parameter."
   ]
  },
  {
   "cell_type": "markdown",
   "metadata": {},
   "source": [
    "### Polymorphism\n",
    "Polymorphism is an ability (in OOP) to use a common interface for multiple forms (data types).\n",
    "\n",
    "Polymorphism in python defines methods in the child class that have the same name as the methods in the parent class.\n",
    "\n",
    "* Using Polymorphism in Python"
   ]
  },
  {
   "cell_type": "code",
   "execution_count": 26,
   "metadata": {},
   "outputs": [
    {
     "name": "stdout",
     "output_type": "stream",
     "text": [
      "Parrot can fly\n",
      "Penguin can't fly\n"
     ]
    }
   ],
   "source": [
    "class Parrot:\n",
    "\n",
    "    def fly(self):\n",
    "        print(\"Parrot can fly\")\n",
    "    \n",
    "    def swim(self):\n",
    "        print(\"Parrot can't swim\")\n",
    "\n",
    "class Penguin:\n",
    "\n",
    "    def fly(self):\n",
    "        print(\"Penguin can't fly\")\n",
    "    \n",
    "    def swim(self):\n",
    "        print(\"Penguin can swim\")\n",
    "# common interface\n",
    "def flying(bird):\n",
    "    bird.fly()\n",
    "# Instantiation of Objects\n",
    "par=Parrot()\n",
    "peng=Penguin()\n",
    "\n",
    "# Passing the objects\n",
    "\n",
    "flying(par)\n",
    "flying(peng)\n",
    "\n",
    "#__________________________________________________________________________________________________________________________---\n",
    "# we defined two classes Parrot and Penguin. Each of them have a common fly() method. However, their functions are different.\n",
    "\n",
    "# To use polymorphism, we created a common interface i.e flying_test() \n",
    "#function that takes any object and calls the object's fly() method. \n",
    "# Thus, when we passed the par and peggy objects in the flying_test() function, it ran effectively."
   ]
  },
  {
   "cell_type": "code",
   "execution_count": null,
   "metadata": {},
   "outputs": [],
   "source": []
  }
 ],
 "metadata": {
  "kernelspec": {
   "display_name": "Python 3",
   "language": "python",
   "name": "python3"
  },
  "language_info": {
   "codemirror_mode": {
    "name": "ipython",
    "version": 3
   },
   "file_extension": ".py",
   "mimetype": "text/x-python",
   "name": "python",
   "nbconvert_exporter": "python",
   "pygments_lexer": "ipython3",
   "version": "3.8.3"
  }
 },
 "nbformat": 4,
 "nbformat_minor": 4
}
